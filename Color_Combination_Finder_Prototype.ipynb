{
  "nbformat": 4,
  "nbformat_minor": 0,
  "metadata": {
    "colab": {
      "provenance": [],
      "authorship_tag": "ABX9TyOEnaKTMMHL/U4E2amUenej",
      "include_colab_link": true
    },
    "kernelspec": {
      "name": "python3",
      "display_name": "Python 3"
    },
    "language_info": {
      "name": "python"
    }
  },
  "cells": [
    {
      "cell_type": "markdown",
      "metadata": {
        "id": "view-in-github",
        "colab_type": "text"
      },
      "source": [
        "<a href=\"https://colab.research.google.com/github/sudarshan-360/Machine-Learning/blob/main/Color_Combination_Finder_Prototype.ipynb\" target=\"_parent\"><img src=\"https://colab.research.google.com/assets/colab-badge.svg\" alt=\"Open In Colab\"/></a>"
      ]
    },
    {
      "cell_type": "code",
      "execution_count": 37,
      "metadata": {
        "colab": {
          "base_uri": "https://localhost:8080/"
        },
        "id": "UQPFusOLLa3B",
        "outputId": "611f08cd-1d12-4130-d333-daf8911c6bbc"
      },
      "outputs": [
        {
          "output_type": "stream",
          "name": "stdout",
          "text": [
            "RGB: (255, 192, 203)\n"
          ]
        }
      ],
      "source": [
        "import matplotlib.colors as mcolors\n",
        "\n",
        "color_name = 'pink'\n",
        "rgb = mcolors.to_rgb(color_name)\n",
        "rgb_255 = tuple(int(c * 255) for c in rgb)\n",
        "print(\"RGB:\", rgb_255)\n"
      ]
    },
    {
      "cell_type": "code",
      "source": [
        "import colorsys\n",
        "\n",
        "hsv = colorsys.rgb_to_hsv(*rgb)\n",
        "print(\"HSV:\", hsv)  # H ranges from 0 to 1\n"
      ],
      "metadata": {
        "colab": {
          "base_uri": "https://localhost:8080/"
        },
        "id": "bckrYj7sLweO",
        "outputId": "89e662df-4f17-4bae-ccee-fa56e60c61aa"
      },
      "execution_count": 38,
      "outputs": [
        {
          "output_type": "stream",
          "name": "stdout",
          "text": [
            "HSV: (0.9708994708994709, 0.24705882352941178, 1.0)\n"
          ]
        }
      ]
    },
    {
      "cell_type": "code",
      "source": [
        "def analogous_colors(hsv):\n",
        "    h, s, v = hsv\n",
        "    return [\n",
        "        ((h + 0.05) % 1.0, s, v),\n",
        "        ((h - 0.05) % 1.0, s, v)\n",
        "    ]\n",
        "\n",
        "def triadic_colors(hsv):\n",
        "    h, s, v = hsv\n",
        "    return [\n",
        "        ((h + 1/3) % 1.0, s, v),\n",
        "        ((h + 2/3) % 1.0, s, v)\n",
        "    ]\n",
        "\n",
        "def complementary_color(hsv):\n",
        "    h, s, v = hsv\n",
        "    return [((h + 0.5) % 1.0, s, v)]\n"
      ],
      "metadata": {
        "id": "8i0IMumjLz-x"
      },
      "execution_count": 39,
      "outputs": []
    },
    {
      "cell_type": "code",
      "source": [
        "import matplotlib.pyplot as plt\n",
        "\n",
        "def plot_colors(color_list, title=\"Color Scheme\"):\n",
        "    fig, ax = plt.subplots(figsize=(8, 2))\n",
        "    for i, color in enumerate(color_list):\n",
        "        rgb = colorsys.hsv_to_rgb(*color)\n",
        "        rgb = [int(c * 255) for c in rgb]\n",
        "        ax.add_patch(plt.Rectangle((i, 0), 1, 1, color=[c/255 for c in rgb]))\n",
        "    ax.set_xlim(0, len(color_list))\n",
        "    ax.set_xticks([])\n",
        "    ax.set_yticks([])\n",
        "    plt.title(title)\n",
        "    plt.show()\n",
        "\n",
        "# Example: Plot complementary\n",
        "plot_colors([hsv] + complementary_color(hsv), title=\"Complementary\")\n",
        "plot_colors([hsv] + triadic_colors(hsv), title=\"triadic_colors\")\n",
        "plot_colors([hsv] + analogous_colors(hsv), title=\"analogous_colors\")\n",
        "\n"
      ],
      "metadata": {
        "colab": {
          "base_uri": "https://localhost:8080/",
          "height": 605
        },
        "id": "D_WIlxsiL3Tz",
        "outputId": "e14f068f-edaf-4a95-b41f-47ddbbe3cc5b"
      },
      "execution_count": 40,
      "outputs": [
        {
          "output_type": "display_data",
          "data": {
            "text/plain": [
              "<Figure size 800x200 with 1 Axes>"
            ],
            "image/png": "[encoded data removed]"
          },
          "metadata": {}
        },
        {
          "output_type": "display_data",
          "data": {
            "text/plain": [
              "<Figure size 800x200 with 1 Axes>"
            ],
            "image/png": "[encoded data removed]"
          },
          "metadata": {}
        },
        {
          "output_type": "display_data",
          "data": {
            "text/plain": [
              "<Figure size 800x200 with 1 Axes>"
            ],
            "image/png": "[encoded data removed]"
          },
          "metadata": {}
        }
      ]
    }
  ]
}